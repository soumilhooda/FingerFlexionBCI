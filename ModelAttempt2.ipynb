{
 "cells": [
  {
   "cell_type": "code",
   "execution_count": 1,
   "metadata": {},
   "outputs": [],
   "source": [
    "import numpy as np\n",
    "import scipy.io as sio \n",
    "import scipy.signal as sig\n",
    "from matplotlib import pyplot as plt\n",
    "%matplotlib inline\n",
    "dat1 = sio.loadmat('/Users/soumilhooda/Documents/BCI/Data/BCICIV_4_mat/sub1_comp.mat',struct_as_record = True)\n",
    "dat2 = sio.loadmat('/Users/soumilhooda/Documents/BCI/Data/BCICIV_4_mat/sub2_comp.mat',struct_as_record = True)\n",
    "dat3 = sio.loadmat('/Users/soumilhooda/Documents/BCI/Data/BCICIV_4_mat/sub3_comp.mat',struct_as_record = True)"
   ]
  },
  {
   "cell_type": "code",
   "execution_count": 10,
   "metadata": {},
   "outputs": [],
   "source": [
    "import tensorflow\n",
    "from tensorflow import keras\n",
    "from tensorflow.keras import layers\n",
    "from tensorflow.keras.regularizers import l2\n",
    "import numpy"
   ]
  },
  {
   "cell_type": "code",
   "execution_count": 29,
   "metadata": {},
   "outputs": [],
   "source": [
    "np.random.seed(0)"
   ]
  },
  {
   "cell_type": "code",
   "execution_count": 2,
   "metadata": {},
   "outputs": [],
   "source": [
    "# PRE-PROCESSING BLOCK\n",
    "\n",
    "train_data1 = dat1['train_data']\n",
    "train_dg1 = dat1['train_dg']\n",
    "samples1,channels1 = train_data1.shape\n",
    "tt = 400 #Sampling time\n",
    "sf = 1000 #Sampling frequency \n",
    "channel_data1 = np.transpose(train_data1,(1,0))\n",
    "finger_data1 = np.transpose(train_dg1,(1,0))\n",
    "\n",
    "train_data2 = dat2['train_data']\n",
    "train_dg2 = dat2['train_dg']\n",
    "samples2,channels2 = train_data2.shape\n",
    "tt = 400 #Sampling time\n",
    "sf = 1000 #Sampling frequency \n",
    "channel_data2 = np.transpose(train_data2,(1,0))\n",
    "finger_data2 = np.transpose(train_dg2,(1,0))\n",
    "\n",
    "\n",
    "train_data3 = dat3['train_data']\n",
    "train_dg3 = dat3['train_dg']\n",
    "samples3,channels3 = train_data3.shape\n",
    "tt = 400 #Sampling time\n",
    "sf = 1000 #Sampling frequency \n",
    "channel_data3 = np.transpose(train_data3,(1,0))\n",
    "finger_data3 = np.transpose(train_dg3,(1,0))\n",
    "\n",
    "def bandPass(signal,fl,fh):\n",
    "    taps = 505\n",
    "    band = np.array([fl,fh])\n",
    "    h = sig.firwin(taps,band,fs=sf,pass_zero='bandpass')\n",
    "    output = np.convolve(signal,h,mode='same')\n",
    "    return output\n",
    "\n",
    "def AM(signal,samples):\n",
    "    cur = 0\n",
    "    output = []\n",
    "    for i in range(samples):\n",
    "        if(i and i % 40 == 0):\n",
    "            output.append(cur)\n",
    "            cur = 0\n",
    "        cur += signal[i]**2\n",
    "    output.append(cur)\n",
    "         \n",
    "    return output\n",
    "\n",
    "sub_band1 = [bandPass(x,1,60) for x in channel_data1]\n",
    "gamma_band1 = [bandPass(x,60,100) for x in channel_data1]\n",
    "fast_gamma_band1 = [bandPass(x,100,200) for x in channel_data1]\n",
    "\n",
    "sub_band2 = [bandPass(x,1,60) for x in channel_data2]\n",
    "gamma_band2 = [bandPass(x,60,100) for x in channel_data2]\n",
    "fast_gamma_band2 = [bandPass(x,100,200) for x in channel_data2]\n",
    "\n",
    "sub_band3 = [bandPass(x,1,60) for x in channel_data3]\n",
    "gamma_band3 = [bandPass(x,60,100) for x in channel_data3]\n",
    "fast_gamma_band3 = [bandPass(x,100,200) for x in channel_data3]\n",
    "\n",
    "\n",
    "sub_band1 = np.array([AM(x,samples1) for x in sub_band1])\n",
    "gamma_band1 = np.array([AM(x,samples1) for x in gamma_band1])\n",
    "fast_gamma_band1 = np.array([AM(x,samples1) for x in fast_gamma_band1])\n",
    "\n",
    "sub_band2 = np.array([AM(x,samples2) for x in sub_band2])\n",
    "gamma_band2 = np.array([AM(x,samples2) for x in gamma_band2])\n",
    "fast_gamma_band2 = np.array([AM(x,samples2) for x in fast_gamma_band2])\n",
    "\n",
    "sub_band3 = np.array([AM(x,samples3) for x in sub_band3])\n",
    "gamma_band3 = np.array([AM(x,samples3) for x in gamma_band3])\n",
    "fast_gamma_band3 = np.array([AM(x,samples3) for x in fast_gamma_band3])\n",
    "\n",
    "finger_data1_ds = [None]*5\n",
    "finger_data2_ds = [None]*5\n",
    "finger_data3_ds = [None]*5\n",
    "for i in range(5):\n",
    "    finger_data1_ds[i] = [finger_data1[i][j] for j in range(0,samples1,40)]\n",
    "    finger_data2_ds[i] = [finger_data2[i][j] for j in range(0,samples2,40)]\n",
    "    finger_data3_ds[i] = [finger_data3[i][j] for j in range(0,samples3,40)]\n",
    "\n",
    "\n",
    "dsamples1 = len(finger_data1_ds[0])\n",
    "dsamples2 = len(finger_data2_ds[0])\n",
    "dsamples3 = len(finger_data3_ds[0])\n",
    "\n",
    "states1 = [None]*dsamples1\n",
    "states2 = [None]*dsamples2\n",
    "states3 = [None]*dsamples3\n",
    "\n",
    "threshold_1,threshold_2  = 2.0,1.0\n",
    "\n",
    "for i in range(dsamples1):\n",
    "    flex,rest = 0,0\n",
    "    for j in range(5):\n",
    "        if finger_data1_ds[j][i] >= threshold_1:\n",
    "            states1[i] = j + 1\n",
    "            flex += 1\n",
    "        elif finger_data1_ds[j][i] < threshold_2:\n",
    "            rest += 1\n",
    "    if states1[i] == None:\n",
    "        if rest:\n",
    "            states1[i] = 0\n",
    "\n",
    "\n",
    "for i in range(dsamples2):\n",
    "    flex,rest = 0,0\n",
    "    for j in range(5):\n",
    "        if finger_data2_ds[j][i] >= threshold_1:\n",
    "            states2[i] = j + 1\n",
    "            flex += 1\n",
    "        elif finger_data2_ds[j][i] < threshold_2:\n",
    "            rest += 1\n",
    "    if states2[i] == None:\n",
    "        if rest:\n",
    "            states2[i] = 0\n",
    "\n",
    "\n",
    "\n",
    "for i in range(dsamples3):\n",
    "    flex,rest = 0,0\n",
    "    for j in range(5):\n",
    "        if finger_data3_ds[j][i] >= threshold_1:\n",
    "            states3[i] = j + 1\n",
    "            flex += 1\n",
    "        elif finger_data3_ds[j][i] < threshold_2:\n",
    "            rest += 1\n",
    "    if states3[i] == None:\n",
    "        if rest:\n",
    "            states3[i] = 0\n",
    "\n",
    "\n"
   ]
  },
  {
   "cell_type": "code",
   "execution_count": 15,
   "metadata": {},
   "outputs": [],
   "source": [
    "Sub1_SubBand = sub_band1\n",
    "Sub1_GammaBand = gamma_band1\n",
    "Sub1_FastGammaBand = fast_gamma_band1\n",
    "Sub1_FingerState = states1\n",
    "\n",
    "Sub2_SubBand = sub_band2\n",
    "Sub2_GammaBand = gamma_band2\n",
    "Sub2_FastGammaBand = fast_gamma_band2\n",
    "Sub2_FingerState = states2\n",
    "\n",
    "Sub3_SubBand = sub_band3\n",
    "Sub3_GammaBand = gamma_band3\n",
    "Sub3_FastGammaBand = fast_gamma_band3\n",
    "Sub3_FingerState = states1"
   ]
  },
  {
   "cell_type": "code",
   "execution_count": 16,
   "metadata": {},
   "outputs": [],
   "source": [
    "full_band = [AM(x, samples2) for x in channel_data2]"
   ]
  },
  {
   "cell_type": "code",
   "execution_count": 17,
   "metadata": {},
   "outputs": [],
   "source": [
    "# Zero-less : \n",
    "nz_states = []\n",
    "nz_ch = []\n",
    "for i in range(len(full_band)):\n",
    "    cch = []\n",
    "    for j in range(len(states2)):\n",
    "        if(states2[j]):\n",
    "            cch.append(states2[j])\n",
    "    nz_ch.append(cch)\n",
    "\n",
    "for s in states2:\n",
    "    if s:\n",
    "        nz_states.append(s)\n",
    "\n",
    "nz_states_np = np.array(nz_states)\n",
    "nz_ch_np = np.array(nz_ch)"
   ]
  },
  {
   "cell_type": "code",
   "execution_count": 18,
   "metadata": {},
   "outputs": [
    {
     "name": "stdout",
     "output_type": "stream",
     "text": [
      "(2258,)\n",
      "(48, 2258)\n"
     ]
    }
   ],
   "source": [
    "print(nz_states_np.shape)\n",
    "print(nz_ch_np.shape)"
   ]
  },
  {
   "cell_type": "code",
   "execution_count": 20,
   "metadata": {},
   "outputs": [
    {
     "name": "stdout",
     "output_type": "stream",
     "text": [
      "(2258, 48)\n"
     ]
    }
   ],
   "source": [
    "nz_ch_np = nz_ch_np.T\n",
    "print(nz_ch_np.shape)"
   ]
  },
  {
   "cell_type": "code",
   "execution_count": 21,
   "metadata": {},
   "outputs": [
    {
     "name": "stdout",
     "output_type": "stream",
     "text": [
      "[[0. 0. 0. 0. 1.]\n",
      " [0. 0. 0. 0. 1.]\n",
      " [0. 0. 0. 0. 1.]\n",
      " ...\n",
      " [1. 0. 0. 0. 0.]\n",
      " [1. 0. 0. 0. 0.]\n",
      " [1. 0. 0. 0. 0.]]\n"
     ]
    }
   ],
   "source": [
    "nz_states_np = nz_states_np.reshape(len(nz_states_np), 1)\n",
    "\n",
    "from sklearn.preprocessing import OneHotEncoder\n",
    "\n",
    "Fingers_Subject2_OneHot = OneHotEncoder(sparse=False).fit_transform(nz_states_np)\n",
    "print(Fingers_Subject2_OneHot)"
   ]
  },
  {
   "cell_type": "code",
   "execution_count": 22,
   "metadata": {},
   "outputs": [
    {
     "name": "stdout",
     "output_type": "stream",
     "text": [
      "[[0.14433757 0.14433757 0.14433757 ... 0.14433757 0.14433757 0.14433757]\n",
      " [0.14433757 0.14433757 0.14433757 ... 0.14433757 0.14433757 0.14433757]\n",
      " [0.14433757 0.14433757 0.14433757 ... 0.14433757 0.14433757 0.14433757]\n",
      " ...\n",
      " [0.14433757 0.14433757 0.14433757 ... 0.14433757 0.14433757 0.14433757]\n",
      " [0.14433757 0.14433757 0.14433757 ... 0.14433757 0.14433757 0.14433757]\n",
      " [0.14433757 0.14433757 0.14433757 ... 0.14433757 0.14433757 0.14433757]]\n"
     ]
    }
   ],
   "source": [
    "from sklearn.preprocessing import Normalizer\n",
    "\n",
    "Sub2_AllBand = Normalizer().fit(nz_ch_np).transform(nz_ch_np)\n",
    "print(Sub2_AllBand)"
   ]
  },
  {
   "cell_type": "code",
   "execution_count": 30,
   "metadata": {},
   "outputs": [
    {
     "name": "stdout",
     "output_type": "stream",
     "text": [
      "Model: \"sequential_4\"\n",
      "_________________________________________________________________\n",
      "Layer (type)                 Output Shape              Param #   \n",
      "=================================================================\n",
      "dense_8 (Dense)              (None, 48)                2352      \n",
      "_________________________________________________________________\n",
      "reshape_4 (Reshape)          (None, 1, 48)             0         \n",
      "_________________________________________________________________\n",
      "lstm_4 (LSTM)                (None, 24)                7008      \n",
      "_________________________________________________________________\n",
      "dense_9 (Dense)              (None, 5)                 125       \n",
      "=================================================================\n",
      "Total params: 9,485\n",
      "Trainable params: 9,485\n",
      "Non-trainable params: 0\n",
      "_________________________________________________________________\n",
      "Train on 2258 samples\n",
      "Epoch 1/10\n",
      "2258/2258 [==============================] - 11s 5ms/sample - loss: 1.5951 - mae: 0.3175 - mse: 0.1588\n",
      "Epoch 2/10\n",
      "2258/2258 [==============================] - 13s 6ms/sample - loss: 1.5927 - mae: 0.3167 - mse: 0.1586\n",
      "Epoch 3/10\n",
      "2258/2258 [==============================] - 24s 11ms/sample - loss: 1.5927 - mae: 0.3171 - mse: 0.1586\n",
      "Epoch 4/10\n",
      "2258/2258 [==============================] - 12s 5ms/sample - loss: 1.5937 - mae: 0.3168 - mse: 0.1587\n",
      "Epoch 5/10\n",
      "2258/2258 [==============================] - 11s 5ms/sample - loss: 1.5941 - mae: 0.3171 - mse: 0.1587\n",
      "Epoch 6/10\n",
      "2258/2258 [==============================] - 12s 5ms/sample - loss: 1.5941 - mae: 0.3172 - mse: 0.1588\n",
      "Epoch 7/10\n",
      "2258/2258 [==============================] - 11s 5ms/sample - loss: 1.5946 - mae: 0.3172 - mse: 0.1588\n",
      "Epoch 8/10\n",
      "2258/2258 [==============================] - 11s 5ms/sample - loss: 1.5930 - mae: 0.3171 - mse: 0.1587\n",
      "Epoch 9/10\n",
      "2258/2258 [==============================] - 11s 5ms/sample - loss: 1.5945 - mae: 0.3169 - mse: 0.1588\n",
      "Epoch 10/10\n",
      "2258/2258 [==============================] - 12s 5ms/sample - loss: 1.5933 - mae: 0.3170 - mse: 0.1587\n",
      "Predicted values are:  [[0.2088042  0.18246171 0.27196395 0.1662782  0.17049198]\n",
      " [0.2088042  0.18246171 0.27196395 0.1662782  0.17049198]\n",
      " [0.2088042  0.18246171 0.27196395 0.1662782  0.17049198]\n",
      " ...\n",
      " [0.2088042  0.18246171 0.27196395 0.1662782  0.17049198]\n",
      " [0.2088042  0.18246171 0.27196395 0.1662782  0.17049198]\n",
      " [0.2088042  0.18246171 0.27196395 0.1662782  0.17049198]]\n",
      "[2 2 2 ... 2 2 2]\n",
      "0.19929140832595216\n"
     ]
    }
   ],
   "source": [
    "model9 = keras.Sequential()\n",
    "model9.add(layers.Dense(48, input_dim=48, activation='relu'))\n",
    "model9.add(layers.Reshape(( 1, 48)))\n",
    "model9.add(layers.LSTM(24, activation = 'relu'))\n",
    "model9.add(layers.Dense(5, activation='softmax'))\n",
    "\n",
    "opt = keras.optimizers.Adam(learning_rate=0.005)\n",
    "model9.compile(loss='categorical_crossentropy', optimizer=opt, metrics=['mae','mse'])\n",
    "model9.summary()\n",
    "\n",
    "history = model9.fit(Sub2_AllBand, Fingers_Subject2_OneHot, batch_size = 1, epochs=10)\n",
    "\n",
    "predictions9 = model9.predict(Sub2_AllBand)\n",
    "print(\"Predicted values are: \", predictions9)\n",
    "np.savetxt('No0State_M9NormalPred.txt',predictions9)\n",
    "Corrected_Pred9 = numpy.argmax(predictions9, axis = 1)\n",
    "print(Corrected_Pred9)\n",
    "np.savetxt('No0State_Pred.txt',Corrected_Pred9)\n",
    "\n",
    "from sklearn.metrics import accuracy_score\n",
    "print(accuracy_score(nz_states_np, Corrected_Pred9))"
   ]
  },
  {
   "cell_type": "code",
   "execution_count": 33,
   "metadata": {},
   "outputs": [
    {
     "name": "stdout",
     "output_type": "stream",
     "text": [
      "[[  0 479   0   0   0]\n",
      " [  0 450   0   0   0]\n",
      " [  0 601   0   0   0]\n",
      " [  0 388   0   0   0]\n",
      " [  0 340   0   0   0]]\n"
     ]
    },
    {
     "data": {
      "image/png": "[encoded data removed]",
      "text/plain": [
       "<Figure size 432x288 with 2 Axes>"
      ]
     },
     "metadata": {
      "needs_background": "light"
     },
     "output_type": "display_data"
    }
   ],
   "source": [
    "from sklearn.metrics import confusion_matrix\n",
    "import seaborn as sns\n",
    "import matplotlib.pyplot as plt\n",
    "\n",
    "conf9 = confusion_matrix(nz_states_np, Corrected_Pred9)\n",
    "sns.heatmap(conf9, annot=True, cmap='Blues')\n",
    "plt.show()"
   ]
  },
  {
   "cell_type": "code",
   "execution_count": 34,
   "metadata": {},
   "outputs": [
    {
     "name": "stdout",
     "output_type": "stream",
     "text": [
      "(2258, 1, 48)\n"
     ]
    }
   ],
   "source": [
    "Sub2_AllBand = Sub2_AllBand.reshape(len(Sub2_AllBand),1,len(Sub2_AllBand[0]))\n",
    "print(Sub2_AllBand.shape)"
   ]
  },
  {
   "cell_type": "code",
   "execution_count": 42,
   "metadata": {},
   "outputs": [
    {
     "name": "stdout",
     "output_type": "stream",
     "text": [
      "Model: \"sequential_9\"\n",
      "_________________________________________________________________\n",
      "Layer (type)                 Output Shape              Param #   \n",
      "=================================================================\n",
      "lstm_9 (LSTM)                (None, 24)                7008      \n",
      "_________________________________________________________________\n",
      "dense_17 (Dense)             (None, 5)                 125       \n",
      "=================================================================\n",
      "Total params: 7,133\n",
      "Trainable params: 7,133\n",
      "Non-trainable params: 0\n",
      "_________________________________________________________________\n",
      "Train on 2258 samples\n",
      "Epoch 1/10\n",
      "2258/2258 [==============================] - 12s 5ms/sample - loss: 1.5958 - mse: 0.1589\n",
      "Epoch 2/10\n",
      "2258/2258 [==============================] - 11s 5ms/sample - loss: 1.5932 - mse: 0.1587\n",
      "Epoch 3/10\n",
      "2258/2258 [==============================] - 10s 4ms/sample - loss: 1.5945 - mse: 0.1588\n",
      "Epoch 4/10\n",
      "2258/2258 [==============================] - 10s 4ms/sample - loss: 1.5934 - mse: 0.1587\n",
      "Epoch 5/10\n",
      "2258/2258 [==============================] - 9s 4ms/sample - loss: 1.5929 - mse: 0.1586\n",
      "Epoch 6/10\n",
      "2258/2258 [==============================] - 13s 6ms/sample - loss: 1.5945 - mse: 0.1588\n",
      "Epoch 7/10\n",
      "2258/2258 [==============================] - 10s 4ms/sample - loss: 1.5939 - mse: 0.1587\n",
      "Epoch 8/10\n",
      "2258/2258 [==============================] - 14s 6ms/sample - loss: 1.5934 - mse: 0.1587\n",
      "Epoch 9/10\n",
      "2258/2258 [==============================] - 13s 6ms/sample - loss: 1.5938 - mse: 0.1587\n",
      "Epoch 10/10\n",
      "2258/2258 [==============================] - 16s 7ms/sample - loss: 1.5940 - mse: 0.1587\n",
      "Predicted values are:  [[0.21435083 0.19863589 0.24795763 0.17999618 0.15905945]\n",
      " [0.21435083 0.19863589 0.24795763 0.17999618 0.15905945]\n",
      " [0.21435083 0.19863589 0.24795763 0.17999618 0.15905945]\n",
      " ...\n",
      " [0.21435083 0.19863589 0.24795763 0.17999618 0.15905945]\n",
      " [0.21435083 0.19863589 0.24795763 0.17999618 0.15905945]\n",
      " [0.21435083 0.19863589 0.24795763 0.17999618 0.15905945]]\n",
      "[2 2 2 ... 2 2 2]\n"
     ]
    }
   ],
   "source": [
    "from tensorflow import keras\n",
    "from tensorflow.keras import layers\n",
    "from tensorflow.keras.regularizers import l2\n",
    "import numpy\n",
    "\n",
    "model = keras.Sequential()\n",
    "model.add(layers.LSTM(24,  input_shape=(1,48),activation = \"relu\"))\n",
    "model.add(layers.Dense(5, activation='softmax'))\n",
    "\n",
    "opt = keras.optimizers.Adam(learning_rate=0.005)\n",
    "model.compile(loss='categorical_crossentropy', optimizer=opt, metrics=['mse'])\n",
    "model.summary()\n",
    "\n",
    "history = model.fit(Sub2_AllBand, Fingers_Subject2_OneHot, batch_size = 1, epochs=10)\n",
    "\n",
    "predictions = model.predict(Sub2_AllBand)\n",
    "print(\"Predicted values are: \", predictions)\n",
    "# np.savetxt('DownsampledModel_NorPred.txt',predictions)\n",
    "Corrected_Pred = numpy.argmax(predictions, axis = 1)\n",
    "print(Corrected_Pred)\n",
    "# np.savetxt('DownsampledModel_Pred.txt',Corrected_Pred)"
   ]
  },
  {
   "cell_type": "code",
   "execution_count": 43,
   "metadata": {},
   "outputs": [
    {
     "data": {
      "image/png": "[encoded data removed]",
      "text/plain": [
       "<Figure size 432x288 with 2 Axes>"
      ]
     },
     "metadata": {
      "needs_background": "light"
     },
     "output_type": "display_data"
    }
   ],
   "source": [
    "conf = confusion_matrix(nz_states_np, Corrected_Pred)\n",
    "sns.heatmap(conf/np.sum(conf), annot=True, fmt='.2%', cmap='Blues')\n",
    "plt.show()"
   ]
  }
 ],
 "metadata": {
  "kernelspec": {
   "display_name": "Python 3.7.7 ('ML_env')",
   "language": "python",
   "name": "python3"
  },
  "language_info": {
   "codemirror_mode": {
    "name": "ipython",
    "version": 3
   },
   "file_extension": ".py",
   "mimetype": "text/x-python",
   "name": "python",
   "nbconvert_exporter": "python",
   "pygments_lexer": "ipython3",
   "version": "3.7.7"
  },
  "orig_nbformat": 4,
  "vscode": {
   "interpreter": {
    "hash": "e075f35889cf4896b84e6091500e0536ffb720a60a1416c24df33b82d7beac2d"
   }
  }
 },
 "nbformat": 4,
 "nbformat_minor": 2
}
