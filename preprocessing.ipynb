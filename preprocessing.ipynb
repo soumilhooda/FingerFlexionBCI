{
 "cells": [
  {
   "cell_type": "code",
   "execution_count": 18,
   "metadata": {},
   "outputs": [],
   "source": [
    "import numpy as np\n",
    "import scipy.io as sio \n",
    "import scipy.signal as sig\n",
    "from matplotlib import pyplot as plt\n",
    "%matplotlib inline\n",
    "dat = sio.loadmat('/Users/soumilhooda/Desktop/BCI/BCICIV_4_mat/sub1_comp.mat',struct_as_record = True)"
   ]
  },
  {
   "cell_type": "code",
   "execution_count": 19,
   "metadata": {},
   "outputs": [],
   "source": [
    "train_data = dat['train_data']\n",
    "train_dg = dat['train_dg']\n",
    "samples,channels = train_data.shape\n",
    "tt = 400 #Sampling time\n",
    "sf = 1000 #Sampling frequency \n",
    "channel_data = np.transpose(train_data,(1,0))\n",
    "channel_label = np.transpose(train_dg, (1,0))\n",
    "samples_finger,fingers = train_dg.shape"
   ]
  },
  {
   "cell_type": "code",
   "execution_count": 26,
   "metadata": {},
   "outputs": [
    {
     "name": "stdout",
     "output_type": "stream",
     "text": [
      "400000\n"
     ]
    }
   ],
   "source": [
    "print(samples_finger)"
   ]
  },
  {
   "cell_type": "code",
   "execution_count": 20,
   "metadata": {},
   "outputs": [],
   "source": [
    "# FIR filter \n",
    "def bandPass(signal,fl,fh):\n",
    "    taps = 505\n",
    "    band = np.array([fl,fh])\n",
    "    h = sig.firwin(taps,band,fs=sf,pass_zero='bandpass')\n",
    "    output = np.convolve(signal,h,mode='same')\n",
    "    return output"
   ]
  },
  {
   "cell_type": "code",
   "execution_count": 21,
   "metadata": {},
   "outputs": [],
   "source": [
    "# Amplitude modulation : \n",
    "def AM(signal):\n",
    "    cur = 0\n",
    "    output = []\n",
    "    for i in range(samples):\n",
    "        if(i and i % 40 == 0):\n",
    "            output.append(cur)\n",
    "            cur = 0\n",
    "        cur += signal[i]**2\n",
    "    output.append(cur)\n",
    "         \n",
    "    return output"
   ]
  },
  {
   "cell_type": "code",
   "execution_count": 22,
   "metadata": {},
   "outputs": [],
   "source": [
    "# Amplitude modulation : \n",
    "def AM_finger(signal):\n",
    "    cur = 0\n",
    "    output = []\n",
    "    for i in range(samples_finger):\n",
    "        if(i and i % 40 == 0):\n",
    "            output.append(cur)\n",
    "            cur = 0\n",
    "        cur += signal[i]**2\n",
    "    output.append(cur)\n",
    "         \n",
    "    return output"
   ]
  },
  {
   "cell_type": "code",
   "execution_count": 23,
   "metadata": {},
   "outputs": [],
   "source": [
    "# Seperate channel_data into frequency bands : \n",
    "sub_band = [bandPass(x,1,60) for x in channel_data]\n",
    "gamma_band = [bandPass(x,60,100) for x in channel_data]\n",
    "fast_gamma_band = [bandPass(x,100,200) for x in channel_data]"
   ]
  },
  {
   "cell_type": "code",
   "execution_count": 24,
   "metadata": {},
   "outputs": [],
   "source": [
    "# Perform amplitude modulation on each band :\n",
    "sub_band = [AM(x) for x in sub_band]\n",
    "gamma_band = [AM(x) for x in gamma_band]\n",
    "fast_gamma_band = [AM(x) for x in fast_gamma_band]"
   ]
  },
  {
   "cell_type": "code",
   "execution_count": 36,
   "metadata": {},
   "outputs": [],
   "source": [
    "finger_downsampled = []\n",
    "for i in range (len(train_dg)):\n",
    "    if i % 40 == 0:\n",
    "        finger_downsampled.append(train_dg[i])"
   ]
  },
  {
   "cell_type": "code",
   "execution_count": 37,
   "metadata": {},
   "outputs": [
    {
     "name": "stdout",
     "output_type": "stream",
     "text": [
      "10000\n"
     ]
    }
   ],
   "source": [
    "print(len(finger_downsampled))"
   ]
  },
  {
   "cell_type": "code",
   "execution_count": 38,
   "metadata": {},
   "outputs": [],
   "source": [
    "np.savetxt('finger_flexion_downsampled_sub1',finger_downsampled)"
   ]
  }
 ],
 "metadata": {
  "kernelspec": {
   "display_name": "Python 3.7.7 ('ML_env')",
   "language": "python",
   "name": "python3"
  },
  "language_info": {
   "codemirror_mode": {
    "name": "ipython",
    "version": 3
   },
   "file_extension": ".py",
   "mimetype": "text/x-python",
   "name": "python",
   "nbconvert_exporter": "python",
   "pygments_lexer": "ipython3",
   "version": "3.7.7"
  },
  "orig_nbformat": 4,
  "vscode": {
   "interpreter": {
    "hash": "e075f35889cf4896b84e6091500e0536ffb720a60a1416c24df33b82d7beac2d"
   }
  }
 },
 "nbformat": 4,
 "nbformat_minor": 2
}
