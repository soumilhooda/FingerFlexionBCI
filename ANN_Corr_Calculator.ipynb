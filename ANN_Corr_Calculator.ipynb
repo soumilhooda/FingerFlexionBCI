{
 "cells": [
  {
   "cell_type": "code",
   "execution_count": 1,
   "metadata": {},
   "outputs": [],
   "source": [
    "from scipy.io import loadmat\n",
    "import pandas as pd\n",
    "\n",
    "sub1_test_label = loadmat('sub1_testlabels.mat')\n",
    "sub1_test_label_arr = sub1_test_label[\"test_dg\"]"
   ]
  },
  {
   "cell_type": "code",
   "execution_count": 2,
   "metadata": {},
   "outputs": [],
   "source": [
    "sub1_test_label_df = pd.DataFrame(sub1_test_label_arr, columns = ['F1','F2','F3', 'F4', 'F5'])"
   ]
  },
  {
   "cell_type": "code",
   "execution_count": 3,
   "metadata": {},
   "outputs": [],
   "source": [
    "feature_names_normal = ['F1_N', 'F2_N', 'F3_N', 'F4_N', 'F5_N']\n",
    "feature_names_dropped = ['F1_D', 'F2_D', 'F3_D', 'F4_D', 'F5_D']"
   ]
  },
  {
   "cell_type": "code",
   "execution_count": 4,
   "metadata": {},
   "outputs": [],
   "source": [
    "predictions1 = pd.read_csv(\"/Users/soumilhooda/Desktop/BCI/outputSub1_test.ascii\", delim_whitespace=True, header=None)\n",
    "predictions1.columns = feature_names_normal\n",
    "\n",
    "predictions2 = pd.read_csv(\"/Users/soumilhooda/Desktop/BCI/outputSub1_drop54_test.ascii\", delim_whitespace=True, header=None)\n",
    "predictions2.columns = feature_names_dropped"
   ]
  },
  {
   "cell_type": "code",
   "execution_count": 5,
   "metadata": {},
   "outputs": [],
   "source": [
    "F1_N_Pred = predictions1[['F1_N']]\n",
    "F2_N_Pred = predictions1[['F2_N']]\n",
    "F3_N_Pred = predictions1[['F3_N']]\n",
    "F4_N_Pred = predictions1[['F4_N']]\n",
    "F5_N_Pred = predictions1[['F5_N']]\n",
    "\n",
    "F1_D_Pred = predictions2[['F1_D']]\n",
    "F2_D_Pred = predictions2[['F2_D']]\n",
    "F3_D_Pred = predictions2[['F3_D']]\n",
    "F4_D_Pred = predictions2[['F4_D']]\n",
    "F5_D_Pred = predictions2[['F5_D']]\n",
    "\n",
    "F1_Actual = sub1_test_label_df[['F1']]\n",
    "F2_Actual = sub1_test_label_df[['F2']]\n",
    "F3_Actual = sub1_test_label_df[['F3']]\n",
    "F4_Actual = sub1_test_label_df[['F4']]\n",
    "F5_Actual = sub1_test_label_df[['F5']]"
   ]
  },
  {
   "cell_type": "code",
   "execution_count": 6,
   "metadata": {},
   "outputs": [],
   "source": [
    "F1_N_Pred_arr = F1_N_Pred.to_numpy()\n",
    "F2_N_Pred_arr = F2_N_Pred.to_numpy()\n",
    "F3_N_Pred_arr = F3_N_Pred.to_numpy()\n",
    "F4_N_Pred_arr = F4_N_Pred.to_numpy()\n",
    "F5_N_Pred_arr = F5_N_Pred.to_numpy()\n",
    "\n",
    "F1_D_Pred_arr = F1_D_Pred.to_numpy()\n",
    "F2_D_Pred_arr = F2_D_Pred.to_numpy()\n",
    "F3_D_Pred_arr = F3_D_Pred.to_numpy()\n",
    "F4_D_Pred_arr = F4_D_Pred.to_numpy()\n",
    "F5_D_Pred_arr = F5_D_Pred.to_numpy()\n",
    "\n",
    "F1_Actual_arr = F1_Actual.to_numpy()\n",
    "F2_Actual_arr = F2_Actual.to_numpy()\n",
    "F3_Actual_arr = F3_Actual.to_numpy()\n",
    "F4_Actual_arr = F4_Actual.to_numpy()\n",
    "F5_Actual_arr = F5_Actual.to_numpy()"
   ]
  },
  {
   "cell_type": "code",
   "execution_count": 9,
   "metadata": {},
   "outputs": [
    {
     "name": "stdout",
     "output_type": "stream",
     "text": [
      "[[1.         0.06715516]\n",
      " [0.06715516 1.        ]]\n",
      "[[1.         0.05043609]\n",
      " [0.05043609 1.        ]]\n",
      "\n",
      "\n",
      "[[1.         0.03275503]\n",
      " [0.03275503 1.        ]]\n",
      "[[1.         0.01781161]\n",
      " [0.01781161 1.        ]]\n",
      "\n",
      "\n",
      "[[1.         0.04340157]\n",
      " [0.04340157 1.        ]]\n",
      "[[1.        0.0531663]\n",
      " [0.0531663 1.       ]]\n",
      "\n",
      "\n",
      "[[1.         0.03787393]\n",
      " [0.03787393 1.        ]]\n",
      "[[1.         0.03733196]\n",
      " [0.03733196 1.        ]]\n",
      "\n",
      "\n",
      "[[1.         0.04367895]\n",
      " [0.04367895 1.        ]]\n",
      "[[1.         0.05577002]\n",
      " [0.05577002 1.        ]]\n"
     ]
    }
   ],
   "source": [
    "import numpy as np\n",
    "from scipy.stats.stats import pearsonr  \n",
    "\n",
    "\n",
    "print(np.corrcoef(F1_Actual_arr, F1_N_Pred_arr, rowvar=False))\n",
    "print(np.corrcoef(F1_Actual_arr, F1_D_Pred_arr, rowvar=False))\n",
    "print(\"\\n\")\n",
    "print(np.corrcoef(F2_Actual_arr, F2_N_Pred_arr, rowvar=False))\n",
    "print(np.corrcoef(F2_Actual_arr, F2_D_Pred_arr, rowvar=False))\n",
    "print(\"\\n\")\n",
    "print(np.corrcoef(F3_Actual_arr, F3_N_Pred_arr, rowvar=False))\n",
    "print(np.corrcoef(F3_Actual_arr, F3_D_Pred_arr, rowvar=False))\n",
    "print(\"\\n\")\n",
    "print(np.corrcoef(F4_Actual_arr, F4_N_Pred_arr, rowvar=False))\n",
    "print(np.corrcoef(F4_Actual_arr, F4_D_Pred_arr, rowvar=False))\n",
    "print(\"\\n\")\n",
    "print(np.corrcoef(F5_Actual_arr, F5_N_Pred_arr, rowvar=False))\n",
    "print(np.corrcoef(F5_Actual_arr, F5_D_Pred_arr, rowvar=False))\n",
    "\n"
   ]
  }
 ],
 "metadata": {
  "kernelspec": {
   "display_name": "Python 3.7.7 ('ML_env')",
   "language": "python",
   "name": "python3"
  },
  "language_info": {
   "codemirror_mode": {
    "name": "ipython",
    "version": 3
   },
   "file_extension": ".py",
   "mimetype": "text/x-python",
   "name": "python",
   "nbconvert_exporter": "python",
   "pygments_lexer": "ipython3",
   "version": "3.7.7"
  },
  "orig_nbformat": 4,
  "vscode": {
   "interpreter": {
    "hash": "e075f35889cf4896b84e6091500e0536ffb720a60a1416c24df33b82d7beac2d"
   }
  }
 },
 "nbformat": 4,
 "nbformat_minor": 2
}
