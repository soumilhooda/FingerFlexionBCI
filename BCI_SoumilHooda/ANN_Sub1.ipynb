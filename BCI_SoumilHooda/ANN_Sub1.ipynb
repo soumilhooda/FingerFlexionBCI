{
 "cells": [
  {
   "cell_type": "code",
   "execution_count": 1,
   "metadata": {},
   "outputs": [
    {
     "name": "stderr",
     "output_type": "stream",
     "text": [
      "Using TensorFlow backend.\n"
     ]
    }
   ],
   "source": [
    "import numpy as np\n",
    "from pandas import read_csv\n",
    "from keras.models import Sequential\n",
    "from keras.layers import Dense\n",
    "from keras.wrappers.scikit_learn import KerasRegressor\n",
    "from sklearn.model_selection import cross_val_score\n",
    "from sklearn.model_selection import KFold\n",
    "from sklearn.pipeline import Pipeline\n",
    "from sklearn.model_selection import train_test_split\n",
    "from keras.models import model_from_json\n"
   ]
  },
  {
   "cell_type": "code",
   "execution_count": 8,
   "metadata": {},
   "outputs": [],
   "source": [
    "from scipy.io import loadmat\n",
    "\n",
    "sub1_train_data = loadmat('train_data_sub1.mat')\n",
    "sub1_train_label = loadmat('train_label_sub1.mat')\n",
    "sub1_test_data = loadmat('test_data_sub1.mat')\n",
    "\n",
    "# sub2_train_data = loadmat('train_data_sub2.mat')\n",
    "# sub2_train_label = loadmat('train_label_sub2.mat')\n",
    "\n",
    "# sub3_train_data = loadmat('train_data_sub3.mat')\n",
    "# sub3_train_label = loadmat('train_label_sub3.mat')\n",
    "\n",
    "sub1_train_data_arr = sub1_train_data[\"train_data\"]\n",
    "sub1_train_label_arr = sub1_train_label[\"train_dg\"]\n",
    "sub1_test_data_arr = sub1_test_data[\"test_data\"]\n",
    "\n",
    "# sub2_train_data_arr = sub2_train_data[\"train_data\"]\n",
    "# sub2_train_label_arr = sub2_train_label[\"train_dg\"]\n",
    "\n",
    "# sub3_train_data_arr = sub3_train_data[\"train_data\"]\n",
    "# sub3_train_label_arr = sub3_train_label[\"train_dg\"]"
   ]
  },
  {
   "cell_type": "code",
   "execution_count": 10,
   "metadata": {},
   "outputs": [],
   "source": [
    "from sklearn.preprocessing import StandardScaler\n",
    "scaler=StandardScaler()\n",
    "scaler.fit(sub1_train_data_arr)\n",
    "X_train_scaled = scaler.transform(sub1_train_data_arr)\n",
    "X_test_scaled = scaler.transform(sub1_test_data_arr)"
   ]
  },
  {
   "cell_type": "code",
   "execution_count": 11,
   "metadata": {},
   "outputs": [
    {
     "name": "stdout",
     "output_type": "stream",
     "text": [
      "Model: \"sequential_4\"\n",
      "_________________________________________________________________\n",
      "Layer (type)                 Output Shape              Param #   \n",
      "=================================================================\n",
      "dense_13 (Dense)             (None, 512)               32256     \n",
      "_________________________________________________________________\n",
      "dense_14 (Dense)             (None, 256)               131328    \n",
      "_________________________________________________________________\n",
      "dense_15 (Dense)             (None, 128)               32896     \n",
      "_________________________________________________________________\n",
      "dense_16 (Dense)             (None, 5)                 645       \n",
      "=================================================================\n",
      "Total params: 197,125\n",
      "Trainable params: 197,125\n",
      "Non-trainable params: 0\n",
      "_________________________________________________________________\n",
      "Train on 360000 samples, validate on 40000 samples\n",
      "Epoch 1/20\n",
      "360000/360000 [==============================] - 114s 316us/step - loss: 0.9011 - mae: 0.5535 - val_loss: 0.9810 - val_mae: 0.5797\n",
      "Epoch 2/20\n",
      "360000/360000 [==============================] - 127s 354us/step - loss: 0.6513 - mae: 0.4891 - val_loss: 1.1709 - val_mae: 0.6774\n",
      "Epoch 3/20\n",
      "360000/360000 [==============================] - 145s 402us/step - loss: 0.3747 - mae: 0.3882 - val_loss: 1.1710 - val_mae: 0.6633\n",
      "Epoch 4/20\n",
      "360000/360000 [==============================] - 152s 422us/step - loss: 0.2147 - mae: 0.3034 - val_loss: 1.2053 - val_mae: 0.6729\n",
      "Epoch 5/20\n",
      "360000/360000 [==============================] - 156s 433us/step - loss: 0.1396 - mae: 0.2538 - val_loss: 1.2107 - val_mae: 0.6754\n",
      "Epoch 6/20\n",
      "360000/360000 [==============================] - 187s 519us/step - loss: 0.1032 - mae: 0.2235 - val_loss: 1.2201 - val_mae: 0.6784\n",
      "Epoch 7/20\n",
      "360000/360000 [==============================] - 178s 494us/step - loss: 0.0827 - mae: 0.2026 - val_loss: 1.2125 - val_mae: 0.6719\n",
      "Epoch 8/20\n",
      "360000/360000 [==============================] - 164s 457us/step - loss: 0.0692 - mae: 0.1866 - val_loss: 1.2190 - val_mae: 0.6746\n",
      "Epoch 9/20\n",
      "360000/360000 [==============================] - 158s 438us/step - loss: 0.0602 - mae: 0.1745 - val_loss: 1.2476 - val_mae: 0.6939\n",
      "Epoch 10/20\n",
      "360000/360000 [==============================] - 151s 419us/step - loss: 0.0535 - mae: 0.1648 - val_loss: 1.2296 - val_mae: 0.6726\n",
      "Epoch 11/20\n",
      "360000/360000 [==============================] - 146s 406us/step - loss: 0.0485 - mae: 0.1572 - val_loss: 1.2225 - val_mae: 0.6759\n",
      "Epoch 12/20\n",
      "360000/360000 [==============================] - 157s 436us/step - loss: 0.0442 - mae: 0.1503 - val_loss: 1.2257 - val_mae: 0.6765\n",
      "Epoch 13/20\n",
      "360000/360000 [==============================] - 151s 419us/step - loss: 0.0410 - mae: 0.1447 - val_loss: 1.2104 - val_mae: 0.6649\n",
      "Epoch 14/20\n",
      "360000/360000 [==============================] - 165s 457us/step - loss: 0.0382 - mae: 0.1400 - val_loss: 1.2054 - val_mae: 0.6709\n",
      "Epoch 15/20\n",
      "360000/360000 [==============================] - 149s 415us/step - loss: 0.0360 - mae: 0.1358 - val_loss: 1.2085 - val_mae: 0.6597\n",
      "Epoch 16/20\n",
      "360000/360000 [==============================] - 135s 374us/step - loss: 0.0340 - mae: 0.1321 - val_loss: 1.2119 - val_mae: 0.6640\n",
      "Epoch 17/20\n",
      "360000/360000 [==============================] - 151s 420us/step - loss: 0.0324 - mae: 0.1289 - val_loss: 1.2059 - val_mae: 0.6630\n",
      "Epoch 18/20\n",
      "360000/360000 [==============================] - 130s 362us/step - loss: 0.0310 - mae: 0.1262 - val_loss: 1.2121 - val_mae: 0.6618\n",
      "Epoch 19/20\n",
      "360000/360000 [==============================] - 126s 349us/step - loss: 0.0297 - mae: 0.1235 - val_loss: 1.2024 - val_mae: 0.6557\n",
      "Epoch 20/20\n",
      "360000/360000 [==============================] - 125s 347us/step - loss: 0.0286 - mae: 0.1213 - val_loss: 1.1945 - val_mae: 0.6596\n",
      "[0.9010985429128011, 0.6513104410555628, 0.37468823648956084, 0.21466852876676454, 0.13957650753756365, 0.10319443792502085, 0.08269975187381108, 0.06916345077653725, 0.06015179122984409, 0.053451387054887084, 0.048508340733249986, 0.044182791204088266, 0.040960788461069264, 0.03817030099646913, 0.03599889593256844, 0.03399680149836673, 0.03235235882202784, 0.031010901210622655, 0.029656607311798467, 0.028585721039192543]\n"
     ]
    }
   ],
   "source": [
    "model = Sequential()\n",
    "model.add(Dense(512, input_dim=62, activation='sigmoid'))\n",
    "model.add(Dense(256, activation='sigmoid'))\n",
    "model.add(Dense(128, activation='sigmoid'))\n",
    "#Output layer\n",
    "model.add(Dense(5, activation='linear'))\n",
    "\n",
    "model.compile(loss='mean_squared_error', optimizer='adam', metrics=['mae'])\n",
    "model.summary()\n",
    "\n",
    "history = model.fit(X_train_scaled, sub1_train_label_arr, validation_split=0.1, epochs=20)\n",
    "\n",
    "loss = history.history['loss']\n",
    "print(loss)\n",
    "np.savetxt('loss_testSub1.ascii',(loss))"
   ]
  },
  {
   "cell_type": "code",
   "execution_count": 12,
   "metadata": {},
   "outputs": [
    {
     "name": "stdout",
     "output_type": "stream",
     "text": [
      "Predicted values are:  [[-0.22667249 -0.06628439 -0.35340208 -0.2375992  -0.17269264]\n",
      " [-0.25059804 -0.06803401 -0.33050206 -0.24354106 -0.14105013]\n",
      " [-0.31811675 -0.09856722 -0.31808904 -0.26377383 -0.10976262]\n",
      " ...\n",
      " [-0.08145961 -1.0859782  -0.747926   -0.78364384 -0.6662502 ]\n",
      " [-0.07030082 -1.1093915  -0.7580338  -0.78708994 -0.69435996]\n",
      " [-0.06677401 -1.1184858  -0.7522591  -0.7831124  -0.712768  ]]\n"
     ]
    }
   ],
   "source": [
    "predictions = model.predict(X_test_scaled)\n",
    "print(\"Predicted values are: \", predictions)\n",
    "# print(\"Real values are: \", y_test)\n",
    "# np.savetxt ('output1_test.ascii',(y_test))\n",
    "np.savetxt ('outputSub1_test.ascii',(predictions))\n",
    "# mse_neural, mae_neural = model.evaluate(X_test_scaled, y_test)\n",
    "# print('Mean squared error from neural net: ', mse_neural)\n",
    "# print('Mean absolute error from neural net: ', mae_neural)"
   ]
  },
  {
   "cell_type": "code",
   "execution_count": 13,
   "metadata": {},
   "outputs": [
    {
     "name": "stdout",
     "output_type": "stream",
     "text": [
      "Saved model to disk\n"
     ]
    }
   ],
   "source": [
    "model_json = model.to_json()\n",
    "with open(\"modelSub1_test.json\", \"w\") as json_file:\n",
    "    json_file.write(model_json)\n",
    "        # serialize weights to HDF5\n",
    "    model.save_weights(\"modelSub1_test.h5\")\n",
    "    print(\"Saved model to disk\")"
   ]
  },
  {
   "cell_type": "code",
   "execution_count": 14,
   "metadata": {},
   "outputs": [],
   "source": [
    "sub1_test_label = loadmat('sub1_testlabels.mat')\n",
    "sub1_test_label_arr = sub1_test_label[\"test_dg\"]"
   ]
  },
  {
   "cell_type": "code",
   "execution_count": null,
   "metadata": {},
   "outputs": [],
   "source": [
    "# print(np.corrcoef(predictions, sub1_test_label_arr))\n",
    "print(predictions[0:10])"
   ]
  }
 ],
 "metadata": {
  "kernelspec": {
   "display_name": "Python 3.7.7 ('ML_env')",
   "language": "python",
   "name": "python3"
  },
  "language_info": {
   "codemirror_mode": {
    "name": "ipython",
    "version": 3
   },
   "file_extension": ".py",
   "mimetype": "text/x-python",
   "name": "python",
   "nbconvert_exporter": "python",
   "pygments_lexer": "ipython3",
   "version": "3.7.7"
  },
  "orig_nbformat": 4,
  "vscode": {
   "interpreter": {
    "hash": "e075f35889cf4896b84e6091500e0536ffb720a60a1416c24df33b82d7beac2d"
   }
  }
 },
 "nbformat": 4,
 "nbformat_minor": 2
}
