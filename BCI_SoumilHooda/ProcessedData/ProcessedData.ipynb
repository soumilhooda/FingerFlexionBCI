{
 "cells": [
  {
   "cell_type": "code",
   "execution_count": 2,
   "metadata": {},
   "outputs": [],
   "source": [
    "import numpy as np\n",
    "import scipy.io as sio \n",
    "import scipy.signal as sig\n",
    "from matplotlib import pyplot as plt\n",
    "%matplotlib inline\n",
    "dat1 = sio.loadmat('Data/BCICIV_4_mat/sub1_comp.mat',struct_as_record = True)\n",
    "dat2 = sio.loadmat('Data/BCICIV_4_mat/sub2_comp.mat',struct_as_record = True)\n",
    "dat3 = sio.loadmat('Data/BCICIV_4_mat/sub3_comp.mat',struct_as_record = True)"
   ]
  },
  {
   "cell_type": "code",
   "execution_count": 10,
   "metadata": {},
   "outputs": [],
   "source": [
    "train_data1 = dat1['train_data']\n",
    "train_dg1 = dat1['train_dg']\n",
    "samples1,channels1 = train_data1.shape\n",
    "tt = 400 #Sampling time\n",
    "sf = 1000 #Sampling frequency \n",
    "channel_data1 = np.transpose(train_data1,(1,0))\n",
    "finger_data1 = np.transpose(train_dg1,(1,0))\n",
    "\n",
    "train_data2 = dat2['train_data']\n",
    "train_dg2 = dat2['train_dg']\n",
    "samples2,channels2 = train_data2.shape\n",
    "tt = 400 #Sampling time\n",
    "sf = 1000 #Sampling frequency \n",
    "channel_data2 = np.transpose(train_data2,(1,0))\n",
    "finger_data2 = np.transpose(train_dg2,(1,0))\n",
    "\n",
    "\n",
    "train_data3 = dat3['train_data']\n",
    "train_dg3 = dat3['train_dg']\n",
    "samples3,channels3 = train_data3.shape\n",
    "tt = 400 #Sampling time\n",
    "sf = 1000 #Sampling frequency \n",
    "channel_data3 = np.transpose(train_data3,(1,0))\n",
    "finger_data3 = np.transpose(train_dg3,(1,0))"
   ]
  },
  {
   "cell_type": "code",
   "execution_count": 8,
   "metadata": {},
   "outputs": [],
   "source": [
    "# FIR filter \n",
    "def bandPass(signal,fl,fh):\n",
    "    taps = 505\n",
    "    band = np.array([fl,fh])\n",
    "    h = sig.firwin(taps,band,fs=sf,pass_zero='bandpass')\n",
    "    output = np.convolve(signal,h,mode='same')\n",
    "    return output"
   ]
  },
  {
   "cell_type": "code",
   "execution_count": 9,
   "metadata": {},
   "outputs": [],
   "source": [
    "# Amplitude modulation : \n",
    "def AM(signal,samples):\n",
    "    cur = 0\n",
    "    output = []\n",
    "    for i in range(samples):\n",
    "        if(i and i % 40 == 0):\n",
    "            output.append(cur)\n",
    "            cur = 0\n",
    "        cur += signal[i]**2\n",
    "    output.append(cur)\n",
    "         \n",
    "    return output"
   ]
  },
  {
   "cell_type": "code",
   "execution_count": 11,
   "metadata": {},
   "outputs": [],
   "source": [
    "# Seperate channel_data into frequency bands : \n",
    "sub_band1 = [bandPass(x,1,60) for x in channel_data1]\n",
    "gamma_band1 = [bandPass(x,60,100) for x in channel_data1]\n",
    "fast_gamma_band1 = [bandPass(x,100,200) for x in channel_data1]\n",
    "\n",
    "sub_band2 = [bandPass(x,1,60) for x in channel_data2]\n",
    "gamma_band2 = [bandPass(x,60,100) for x in channel_data2]\n",
    "fast_gamma_band2 = [bandPass(x,100,200) for x in channel_data2]\n",
    "\n",
    "\n",
    "sub_band3 = [bandPass(x,1,60) for x in channel_data3]\n",
    "gamma_band3 = [bandPass(x,60,100) for x in channel_data3]\n",
    "fast_gamma_band3 = [bandPass(x,100,200) for x in channel_data3]"
   ]
  },
  {
   "cell_type": "code",
   "execution_count": 13,
   "metadata": {},
   "outputs": [],
   "source": [
    "# Perform amplitude modulation on each band :\n",
    "sub_band1 = np.array([AM(x,samples1) for x in sub_band1])\n",
    "gamma_band1 = np.array([AM(x,samples1) for x in gamma_band1])\n",
    "fast_gamma_band1 = np.array([AM(x,samples1) for x in fast_gamma_band1])\n",
    "\n",
    "sub_band2 = np.array([AM(x,samples2) for x in sub_band2])\n",
    "gamma_band2 = np.array([AM(x,samples2) for x in gamma_band2])\n",
    "fast_gamma_band2 = np.array([AM(x,samples2) for x in fast_gamma_band2])\n",
    "\n",
    "sub_band3 = np.array([AM(x,samples3) for x in sub_band3])\n",
    "gamma_band3 = np.array([AM(x,samples3) for x in gamma_band3])\n",
    "fast_gamma_band3 = np.array([AM(x,samples3) for x in fast_gamma_band3])\n",
    "\n",
    "np.savetxt('Subject1_Train_Sub.txt',sub_band1)\n",
    "np.savetxt('Subject1_Train_Gamma.txt',gamma_band1)\n",
    "np.savetxt('Subject1_Train_Fast_Gamma.txt',fast_gamma_band1)\n",
    "\n",
    "np.savetxt('Subject2_Train_Sub.txt',sub_band2)\n",
    "np.savetxt('Subject2_Train_Gamma.txt',gamma_band2)\n",
    "np.savetxt('Subject2_Train_Fast_Gamma.txt',fast_gamma_band2)\n",
    "\n",
    "np.savetxt('Subject3_Train_Sub.txt',sub_band3)\n",
    "np.savetxt('Subject3_Train_Gamma.txt',gamma_band3)\n",
    "np.savetxt('Subject3_Train_Fast_Gamma.txt',fast_gamma_band3)"
   ]
  },
  {
   "cell_type": "code",
   "execution_count": 14,
   "metadata": {},
   "outputs": [],
   "source": [
    "# Finger data downsampling : \n",
    "finger_data1_ds = [None]*5\n",
    "finger_data2_ds = [None]*5\n",
    "finger_data3_ds = [None]*5\n",
    "for i in range(5):\n",
    "    finger_data1_ds[i] = [finger_data1[i][j] for j in range(0,samples1,40)]\n",
    "    finger_data2_ds[i] = [finger_data2[i][j] for j in range(0,samples2,40)]\n",
    "    finger_data3_ds[i] = [finger_data3[i][j] for j in range(0,samples3,40)]"
   ]
  },
  {
   "cell_type": "code",
   "execution_count": 15,
   "metadata": {},
   "outputs": [],
   "source": [
    "np.savetxt('Subject1_DS_Finger_Train.txt',finger_data1_ds)\n",
    "np.savetxt('Subject2_DS_Finger_Train.txt',finger_data2_ds)\n",
    "np.savetxt('Subject3_DS_Finger_Train.txt',finger_data3_ds)"
   ]
  },
  {
   "cell_type": "code",
   "execution_count": 17,
   "metadata": {},
   "outputs": [],
   "source": [
    "# State assignment : (0 : rest, 1-5 finger flexed)\n",
    "dsamples1 = len(finger_data1_ds[0])\n",
    "dsamples2 = len(finger_data2_ds[0])\n",
    "dsamples3 = len(finger_data3_ds[0])\n",
    "\n",
    "states1 = [None]*dsamples1\n",
    "states2 = [None]*dsamples2\n",
    "states3 = [None]*dsamples3\n",
    "\n",
    "threshold_1,threshold_2  = 2.0,1.0\n",
    "\n",
    "for i in range(dsamples1):\n",
    "    flex,rest = 0,0\n",
    "    for j in range(5):\n",
    "        if finger_data1_ds[j][i] >= threshold_1:\n",
    "            states1[i] = j + 1\n",
    "            flex += 1\n",
    "        elif finger_data1_ds[j][i] < threshold_2:\n",
    "            rest += 1\n",
    "    if states1[i] == None:\n",
    "        if rest:\n",
    "            states1[i] = 0\n",
    "np.savetxt('Subject1_Finger_States_Train.txt',states1)\n",
    "\n",
    "for i in range(dsamples2):\n",
    "    flex,rest = 0,0\n",
    "    for j in range(5):\n",
    "        if finger_data2_ds[j][i] >= threshold_1:\n",
    "            states2[i] = j + 1\n",
    "            flex += 1\n",
    "        elif finger_data2_ds[j][i] < threshold_2:\n",
    "            rest += 1\n",
    "    if states2[i] == None:\n",
    "        if rest:\n",
    "            states2[i] = 0\n",
    "np.savetxt('Subject2_Finger_States_Train.txt',states2)\n",
    "\n",
    "\n",
    "for i in range(dsamples3):\n",
    "    flex,rest = 0,0\n",
    "    for j in range(5):\n",
    "        if finger_data3_ds[j][i] >= threshold_1:\n",
    "            states3[i] = j + 1\n",
    "            flex += 1\n",
    "        elif finger_data3_ds[j][i] < threshold_2:\n",
    "            rest += 1\n",
    "    if states3[i] == None:\n",
    "        if rest:\n",
    "            states3[i] = 0\n",
    "np.savetxt('Subject3_Finger_States_Train.txt',states3)\n",
    "\n",
    "# plt.plot(np.linspace(0,400,400*25),states)\n"
   ]
  }
 ],
 "metadata": {
  "kernelspec": {
   "display_name": "Python 3.7.7 ('ML_env')",
   "language": "python",
   "name": "python3"
  },
  "language_info": {
   "codemirror_mode": {
    "name": "ipython",
    "version": 3
   },
   "file_extension": ".py",
   "mimetype": "text/x-python",
   "name": "python",
   "nbconvert_exporter": "python",
   "pygments_lexer": "ipython3",
   "version": "3.7.7"
  },
  "orig_nbformat": 4,
  "vscode": {
   "interpreter": {
    "hash": "e075f35889cf4896b84e6091500e0536ffb720a60a1416c24df33b82d7beac2d"
   }
  }
 },
 "nbformat": 4,
 "nbformat_minor": 2
}
