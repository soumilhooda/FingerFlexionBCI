{
 "cells": [
  {
   "cell_type": "code",
   "execution_count": 1,
   "metadata": {},
   "outputs": [],
   "source": [
    "import numpy as np\n",
    "import scipy.io as sio \n",
    "import scipy.signal as sig\n",
    "from matplotlib import pyplot as plt\n",
    "%matplotlib inline\n",
    "dat1 = sio.loadmat('/Users/soumilhooda/Documents/BCI/Data/BCICIV_4_mat/sub1_comp.mat',struct_as_record = True)\n",
    "dat2 = sio.loadmat('/Users/soumilhooda/Documents/BCI/Data/BCICIV_4_mat/sub2_comp.mat',struct_as_record = True)\n",
    "dat3 = sio.loadmat('/Users/soumilhooda/Documents/BCI/Data/BCICIV_4_mat/sub3_comp.mat',struct_as_record = True)\n"
   ]
  },
  {
   "cell_type": "code",
   "execution_count": 2,
   "metadata": {},
   "outputs": [],
   "source": [
    "# PRE-PROCESSING BLOCK\n",
    "\n",
    "train_data1 = dat1['train_data']\n",
    "train_dg1 = dat1['train_dg']\n",
    "samples1,channels1 = train_data1.shape\n",
    "tt = 400 #Sampling time\n",
    "sf = 1000 #Sampling frequency \n",
    "channel_data1 = np.transpose(train_data1,(1,0))\n",
    "finger_data1 = np.transpose(train_dg1,(1,0))\n",
    "\n",
    "train_data2 = dat2['train_data']\n",
    "train_dg2 = dat2['train_dg']\n",
    "samples2,channels2 = train_data2.shape\n",
    "tt = 400 #Sampling time\n",
    "sf = 1000 #Sampling frequency \n",
    "channel_data2 = np.transpose(train_data2,(1,0))\n",
    "finger_data2 = np.transpose(train_dg2,(1,0))\n",
    "\n",
    "\n",
    "train_data3 = dat3['train_data']\n",
    "train_dg3 = dat3['train_dg']\n",
    "samples3,channels3 = train_data3.shape\n",
    "tt = 400 #Sampling time\n",
    "sf = 1000 #Sampling frequency \n",
    "channel_data3 = np.transpose(train_data3,(1,0))\n",
    "finger_data3 = np.transpose(train_dg3,(1,0))\n",
    "\n",
    "def bandPass(signal,fl,fh):\n",
    "    taps = 505\n",
    "    band = np.array([fl,fh])\n",
    "    h = sig.firwin(taps,band,fs=sf,pass_zero='bandpass')\n",
    "    output = np.convolve(signal,h,mode='same')\n",
    "    return output\n",
    "\n",
    "def AM(signal,samples):\n",
    "    cur = 0\n",
    "    output = []\n",
    "    for i in range(samples):\n",
    "        if(i and i % 40 == 0):\n",
    "            output.append(cur)\n",
    "            cur = 0\n",
    "        cur += signal[i]**2\n",
    "    output.append(cur)\n",
    "         \n",
    "    return output\n",
    "\n",
    "sub_band1 = [bandPass(x,1,60) for x in channel_data1]\n",
    "gamma_band1 = [bandPass(x,60,100) for x in channel_data1]\n",
    "fast_gamma_band1 = [bandPass(x,100,200) for x in channel_data1]\n",
    "\n",
    "sub_band2 = [bandPass(x,1,60) for x in channel_data2]\n",
    "gamma_band2 = [bandPass(x,60,100) for x in channel_data2]\n",
    "fast_gamma_band2 = [bandPass(x,100,200) for x in channel_data2]\n",
    "\n",
    "sub_band3 = [bandPass(x,1,60) for x in channel_data3]\n",
    "gamma_band3 = [bandPass(x,60,100) for x in channel_data3]\n",
    "fast_gamma_band3 = [bandPass(x,100,200) for x in channel_data3]\n",
    "\n",
    "\n",
    "sub_band1 = np.array([AM(x,samples1) for x in sub_band1])\n",
    "gamma_band1 = np.array([AM(x,samples1) for x in gamma_band1])\n",
    "fast_gamma_band1 = np.array([AM(x,samples1) for x in fast_gamma_band1])\n",
    "\n",
    "sub_band2 = np.array([AM(x,samples2) for x in sub_band2])\n",
    "gamma_band2 = np.array([AM(x,samples2) for x in gamma_band2])\n",
    "fast_gamma_band2 = np.array([AM(x,samples2) for x in fast_gamma_band2])\n",
    "\n",
    "sub_band3 = np.array([AM(x,samples3) for x in sub_band3])\n",
    "gamma_band3 = np.array([AM(x,samples3) for x in gamma_band3])\n",
    "fast_gamma_band3 = np.array([AM(x,samples3) for x in fast_gamma_band3])\n",
    "\n",
    "finger_data1_ds = [None]*5\n",
    "finger_data2_ds = [None]*5\n",
    "finger_data3_ds = [None]*5\n",
    "for i in range(5):\n",
    "    finger_data1_ds[i] = [finger_data1[i][j] for j in range(0,samples1,40)]\n",
    "    finger_data2_ds[i] = [finger_data2[i][j] for j in range(0,samples2,40)]\n",
    "    finger_data3_ds[i] = [finger_data3[i][j] for j in range(0,samples3,40)]\n",
    "\n",
    "\n",
    "dsamples1 = len(finger_data1_ds[0])\n",
    "dsamples2 = len(finger_data2_ds[0])\n",
    "dsamples3 = len(finger_data3_ds[0])\n",
    "\n",
    "states1 = [None]*dsamples1\n",
    "states2 = [None]*dsamples2\n",
    "states3 = [None]*dsamples3\n",
    "\n",
    "threshold_1,threshold_2  = 2.0,1.0\n",
    "\n",
    "for i in range(dsamples1):\n",
    "    flex,rest = 0,0\n",
    "    for j in range(5):\n",
    "        if finger_data1_ds[j][i] >= threshold_1:\n",
    "            states1[i] = j + 1\n",
    "            flex += 1\n",
    "        elif finger_data1_ds[j][i] < threshold_2:\n",
    "            rest += 1\n",
    "    if states1[i] == None:\n",
    "        if rest:\n",
    "            states1[i] = 0\n",
    "\n",
    "\n",
    "for i in range(dsamples2):\n",
    "    flex,rest = 0,0\n",
    "    for j in range(5):\n",
    "        if finger_data2_ds[j][i] >= threshold_1:\n",
    "            states2[i] = j + 1\n",
    "            flex += 1\n",
    "        elif finger_data2_ds[j][i] < threshold_2:\n",
    "            rest += 1\n",
    "    if states2[i] == None:\n",
    "        if rest:\n",
    "            states2[i] = 0\n",
    "\n",
    "\n",
    "\n",
    "for i in range(dsamples3):\n",
    "    flex,rest = 0,0\n",
    "    for j in range(5):\n",
    "        if finger_data3_ds[j][i] >= threshold_1:\n",
    "            states3[i] = j + 1\n",
    "            flex += 1\n",
    "        elif finger_data3_ds[j][i] < threshold_2:\n",
    "            rest += 1\n",
    "    if states3[i] == None:\n",
    "        if rest:\n",
    "            states3[i] = 0\n",
    "\n",
    "\n"
   ]
  },
  {
   "cell_type": "code",
   "execution_count": 3,
   "metadata": {},
   "outputs": [],
   "source": [
    "Sub1_SubBand = sub_band1\n",
    "Sub1_GammaBand = gamma_band1\n",
    "Sub1_FastGammaBand = fast_gamma_band1\n",
    "Sub1_FingerState = states1\n",
    "\n",
    "Sub2_SubBand = sub_band2\n",
    "Sub2_GammaBand = gamma_band2\n",
    "Sub2_FastGammaBand = fast_gamma_band2\n",
    "Sub2_FingerState = states2\n",
    "\n",
    "Sub3_SubBand = sub_band3\n",
    "Sub3_GammaBand = gamma_band3\n",
    "Sub3_FastGammaBand = fast_gamma_band3\n",
    "Sub3_FingerState = states1"
   ]
  },
  {
   "cell_type": "markdown",
   "metadata": {},
   "source": [
    "Training on just Subject 2 Gamma band at first."
   ]
  },
  {
   "cell_type": "code",
   "execution_count": 4,
   "metadata": {},
   "outputs": [
    {
     "name": "stdout",
     "output_type": "stream",
     "text": [
      "[[1. 0. 0. 0. 0. 0.]\n",
      " [1. 0. 0. 0. 0. 0.]\n",
      " [1. 0. 0. 0. 0. 0.]\n",
      " ...\n",
      " [1. 0. 0. 0. 0. 0.]\n",
      " [1. 0. 0. 0. 0. 0.]\n",
      " [1. 0. 0. 0. 0. 0.]]\n"
     ]
    }
   ],
   "source": [
    "import numpy \n",
    "\n",
    "Sub2_FingerState = numpy.asarray(Sub2_FingerState)\n",
    "Sub2_FingerState = Sub2_FingerState.reshape(len(Sub2_FingerState), 1)\n",
    "\n",
    "from sklearn.preprocessing import OneHotEncoder\n",
    "\n",
    "Fingers_Subject2_OneHot = OneHotEncoder(sparse=False).fit_transform(Sub2_FingerState)\n",
    "print(Fingers_Subject2_OneHot)"
   ]
  },
  {
   "cell_type": "code",
   "execution_count": 5,
   "metadata": {},
   "outputs": [
    {
     "name": "stdout",
     "output_type": "stream",
     "text": [
      "[[0.00281701 0.00491227 0.01126519 ... 0.0070843  0.01215409 0.01015238]\n",
      " [0.00209951 0.00975184 0.00242371 ... 0.00832406 0.00349465 0.03525792]\n",
      " [0.00504946 0.0050233  0.01047237 ... 0.00438427 0.00439439 0.00756943]\n",
      " ...\n",
      " [0.01126505 0.00894738 0.01334184 ... 0.01278444 0.00802668 0.01500387]\n",
      " [0.05936403 0.00494066 0.00175576 ... 0.00815658 0.00519528 0.01643311]\n",
      " [0.01092104 0.00966892 0.01511716 ... 0.01297696 0.0095079  0.01364453]]\n",
      "(10000, 48)\n",
      "(10000, 1, 48)\n"
     ]
    }
   ],
   "source": [
    "from sklearn.preprocessing import Normalizer\n",
    "\n",
    "Sub2_GammaBand = Normalizer().fit(Sub2_GammaBand).transform(Sub2_GammaBand)\n",
    "print(Sub2_GammaBand)\n",
    "\n",
    "Sub2_GammaBand = numpy.array(Sub2_GammaBand)\n",
    "Sub2_GammaBand = Sub2_GammaBand.T\n",
    "print(Sub2_GammaBand.shape)\n",
    "Sub2_GammaBand = Sub2_GammaBand.reshape(len(Sub2_GammaBand),1,len(Sub2_GammaBand[0]))\n",
    "print(Sub2_GammaBand.shape)\n",
    "\n"
   ]
  },
  {
   "cell_type": "code",
   "execution_count": 95,
   "metadata": {},
   "outputs": [
    {
     "name": "stdout",
     "output_type": "stream",
     "text": [
      "[[0.01669842 0.01208196 0.00798052 ... 0.00840764 0.01497134 0.02912255]\n",
      " [0.00528902 0.00880696 0.00477819 ... 0.01994905 0.01428287 0.06911929]\n",
      " [0.00557161 0.00458561 0.00441833 ... 0.00834356 0.00471025 0.0074125 ]\n",
      " ...\n",
      " [0.05699484 0.009701   0.0083897  ... 0.01286451 0.00891634 0.01621813]\n",
      " [0.28559785 0.00548481 0.00678735 ... 0.00546382 0.00833229 0.024755  ]\n",
      " [0.00885882 0.0089432  0.00808341 ... 0.00949466 0.00838125 0.01396224]]\n",
      "(10000, 48)\n"
     ]
    }
   ],
   "source": [
    "from sklearn.preprocessing import Normalizer\n",
    "\n",
    "Sub2_FastGammaBand = Normalizer().fit(Sub2_FastGammaBand).transform(Sub2_FastGammaBand)\n",
    "print(Sub2_FastGammaBand)\n",
    "\n",
    "Sub2_FastGammaBand = numpy.array(Sub2_FastGammaBand)\n",
    "Sub2_FastGammaBand = Sub2_FastGammaBand.T\n",
    "print(Sub2_FastGammaBand.shape)\n",
    "# Sub2_FastGammaBand = Sub2_FastGammaBand.reshape(\n",
    "#     len(Sub2_FastGammaBand), len(Sub2_FastGammaBand[0]), 1)\n",
    "# print(Sub2_FastGammaBand.shape)\n"
   ]
  },
  {
   "cell_type": "code",
   "execution_count": 9,
   "metadata": {},
   "outputs": [
    {
     "name": "stdout",
     "output_type": "stream",
     "text": [
      "Model: \"sequential_3\"\n",
      "_________________________________________________________________\n",
      "Layer (type)                 Output Shape              Param #   \n",
      "=================================================================\n",
      "lstm_3 (LSTM)                (None, 32)                10368     \n",
      "_________________________________________________________________\n",
      "dense_7 (Dense)              (None, 6)                 198       \n",
      "=================================================================\n",
      "Total params: 10,566\n",
      "Trainable params: 10,566\n",
      "Non-trainable params: 0\n",
      "_________________________________________________________________\n",
      "Train on 8000 samples, validate on 2000 samples\n",
      "8000/8000 [==============================] - 37s 5ms/sample - loss: 0.8891 - mse: 0.0645 - val_loss: 0.8271 - val_mse: 0.0601\n",
      "Predicted values are:  [[0.977778   0.00384999 0.00419019 0.0080591  0.00271104 0.00341162]\n",
      " [0.88766164 0.02162556 0.02156598 0.03502733 0.01550683 0.01861268]\n",
      " [0.7423791  0.0524128  0.04964415 0.07346267 0.03777738 0.04432382]\n",
      " ...\n",
      " [0.8350162  0.03253068 0.03177135 0.04957049 0.02332411 0.02778724]\n",
      " [0.79722536 0.04065466 0.03901076 0.059457   0.02920204 0.03445021]\n",
      " [0.8471013  0.02985501 0.02955287 0.04638755 0.02140296 0.02570033]]\n",
      "[0 0 0 ... 0 0 0]\n"
     ]
    }
   ],
   "source": [
    "import tensorflow\n",
    "from tensorflow import keras\n",
    "from tensorflow.keras import layers\n",
    "from tensorflow.keras.regularizers import l2\n",
    "\n",
    "model = keras.Sequential()\n",
    "model.add(layers.LSTM(32,  input_shape=(1,48), activation = \"relu\"))\n",
    "model.add(layers.Dense(6, activation='softmax'))\n",
    "\n",
    "opt = keras.optimizers.Adam(learning_rate=0.005)\n",
    "model.compile(loss='categorical_crossentropy', optimizer=opt, metrics=['mse'])\n",
    "model.summary()\n",
    "\n",
    "history = model.fit(Sub2_GammaBand, Fingers_Subject2_OneHot, batch_size = 1, epochs=1, validation_split=0.2)\n",
    "\n",
    "predictions = model.predict(Sub2_GammaBand)\n",
    "print(\"Predicted values are: \", predictions)\n",
    "np.savetxt('FirstModel_NorPred.txt',predictions)\n",
    "Corrected_Pred = numpy.argmax(predictions, axis = 1)\n",
    "print(Corrected_Pred)\n",
    "np.savetxt('FirstModel_Pred.txt',Corrected_Pred)"
   ]
  },
  {
   "cell_type": "markdown",
   "metadata": {},
   "source": [
    "-----------------------------------------------------------------------------------------------------------------------------------------"
   ]
  },
  {
   "cell_type": "code",
   "execution_count": 58,
   "metadata": {},
   "outputs": [
    {
     "name": "stdout",
     "output_type": "stream",
     "text": [
      "Accuracy (Polynomial Kernel):  78.05\n",
      "F1 (Polynomial Kernel):  68.43\n",
      "Accuracy (RBF Kernel):  78.05\n",
      "F1 (RBF Kernel):  68.43\n"
     ]
    }
   ],
   "source": [
    "from sklearn import svm, datasets\n",
    "import sklearn.model_selection as model_selection\n",
    "from sklearn.metrics import accuracy_score\n",
    "from sklearn.metrics import f1_score\n",
    "\n",
    "X_train, X_test, y_train, y_test = model_selection.train_test_split(Sub2_GammaBand, Sub2_FingerState, train_size=0.80, test_size=0.20, random_state=101)\n",
    "\n",
    "rbf = svm.SVC(kernel='rbf', gamma=0.5, C=0.1).fit(X_train, y_train)\n",
    "poly = svm.SVC(kernel='poly', degree=3, C=1).fit(X_train, y_train)\n",
    "\n",
    "poly_pred = poly.predict(X_test)\n",
    "rbf_pred = rbf.predict(X_test)\n",
    "\n",
    "poly_accuracy = accuracy_score(y_test, poly_pred)\n",
    "poly_f1 = f1_score(y_test, poly_pred, average='weighted')\n",
    "print('Accuracy (Polynomial Kernel): ', \"%.2f\" % (poly_accuracy*100))\n",
    "print('F1 (Polynomial Kernel): ', \"%.2f\" % (poly_f1*100))\n",
    "\n",
    "rbf_accuracy = accuracy_score(y_test, rbf_pred)\n",
    "rbf_f1 = f1_score(y_test, rbf_pred, average='weighted')\n",
    "print('Accuracy (RBF Kernel): ', \"%.2f\" % (rbf_accuracy*100))\n",
    "print('F1 (RBF Kernel): ', \"%.2f\" % (rbf_f1*100))"
   ]
  },
  {
   "cell_type": "code",
   "execution_count": 64,
   "metadata": {},
   "outputs": [
    {
     "name": "stdout",
     "output_type": "stream",
     "text": [
      "Accuracy (Polynomial Kernel):  78.10\n",
      "F1 (Polynomial Kernel):  70.17\n",
      "Accuracy (RBF Kernel):  78.05\n",
      "F1 (RBF Kernel):  68.43\n"
     ]
    }
   ],
   "source": [
    "from sklearn import svm, datasets\n",
    "import sklearn.model_selection as model_selection\n",
    "from sklearn.metrics import accuracy_score\n",
    "from sklearn.metrics import f1_score\n",
    "\n",
    "X_train, X_test, y_train, y_test = model_selection.train_test_split(Sub2_FastGammaBand, Sub2_FingerState, train_size=0.80, test_size=0.20, random_state=101)\n",
    "\n",
    "rbf = svm.SVC(kernel='rbf', gamma=0.5, C=0.1).fit(X_train, y_train)\n",
    "poly = svm.SVC(kernel='poly', degree=3, C=1).fit(X_train, y_train)\n",
    "\n",
    "poly_pred = poly.predict(X_test)\n",
    "rbf_pred = rbf.predict(X_test)\n",
    "\n",
    "poly_accuracy = accuracy_score(y_test, poly_pred)\n",
    "poly_f1 = f1_score(y_test, poly_pred, average='weighted')\n",
    "print('Accuracy (Polynomial Kernel): ', \"%.2f\" % (poly_accuracy*100))\n",
    "print('F1 (Polynomial Kernel): ', \"%.2f\" % (poly_f1*100))\n",
    "\n",
    "rbf_accuracy = accuracy_score(y_test, rbf_pred)\n",
    "rbf_f1 = f1_score(y_test, rbf_pred, average='weighted')\n",
    "print('Accuracy (RBF Kernel): ', \"%.2f\" % (rbf_accuracy*100))\n",
    "print('F1 (RBF Kernel): ', \"%.2f\" % (rbf_f1*100))"
   ]
  }
 ],
 "metadata": {
  "kernelspec": {
   "display_name": "Python 3.7.7 ('ML_env')",
   "language": "python",
   "name": "python3"
  },
  "language_info": {
   "codemirror_mode": {
    "name": "ipython",
    "version": 3
   },
   "file_extension": ".py",
   "mimetype": "text/x-python",
   "name": "python",
   "nbconvert_exporter": "python",
   "pygments_lexer": "ipython3",
   "version": "3.7.7"
  },
  "orig_nbformat": 4,
  "vscode": {
   "interpreter": {
    "hash": "e075f35889cf4896b84e6091500e0536ffb720a60a1416c24df33b82d7beac2d"
   }
  }
 },
 "nbformat": 4,
 "nbformat_minor": 2
}
